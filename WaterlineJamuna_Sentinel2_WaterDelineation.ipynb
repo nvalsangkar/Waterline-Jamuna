{
  "nbformat": 4,
  "nbformat_minor": 0,
  "metadata": {
    "colab": {
      "provenance": [],
      "authorship_tag": "ABX9TyNOIBfKSUXW9AFetXj+vt0i",
      "include_colab_link": true
    },
    "kernelspec": {
      "name": "python3",
      "display_name": "Python 3"
    },
    "language_info": {
      "name": "python"
    }
  },
  "cells": [
    {
      "cell_type": "markdown",
      "metadata": {
        "id": "view-in-github",
        "colab_type": "text"
      },
      "source": [
        "<a href=\"https://colab.research.google.com/github/nvalsangkar/Waterline-Jamuna/blob/main/WaterlineJamuna_Sentinel2_WaterDelineation.ipynb\" target=\"_parent\"><img src=\"https://colab.research.google.com/assets/colab-badge.svg\" alt=\"Open In Colab\"/></a>"
      ]
    },
    {
      "cell_type": "markdown",
      "source": [
        "This notebook is provided as supplementary material to the manuscript Combining Earth Observations with Ground Data to Assess River Topography and Morphologic Change: Case Study of the Lower Jamuna River, submitted to International Journal of Applied Earth Observations and Geoinformation, 2024. Authors: N. Valsangkar, A. Nelson, and Md. F. Hassan.\n",
        "\n",
        "Permission is hereby granted, free of charge, to any person obtaining a copy of this software and associated documentation files (the \"Software\"), to deal in the Software without restriction, including without limitation the rights to use, copy, modify, merge, publish, distribute, sublicense, and/or sell copies of the Software, and to permit persons to whom the Software is furnished to do so, subject to the following conditions:\n",
        "\n",
        "The above copyright notice and this permission notice shall be included in all copies or substantial portions of the Software.\n",
        "\n",
        "THE SOFTWARE IS PROVIDED \"AS IS\", WITHOUT WARRANTY OF ANY KIND, EXPRESS OR IMPLIED, INCLUDING BUT NOT LIMITED TO THE WARRANTIES OF MERCHANTABILITY, FITNESS FOR A PARTICULAR PURPOSE AND NONINFRINGEMENT. IN NO EVENT SHALL THE AUTHORS OR COPYRIGHT HOLDERS BE LIABLE FOR ANY CLAIM, DAMAGES OR OTHER LIABILITY, WHETHER IN AN ACTION OF CONTRACT, TORT OR OTHERWISE, ARISING FROM, OUT OF OR IN CONNECTION WITH THE SOFTWARE OR THE USE OR OTHER DEALINGS IN THE SOFTWARE."
      ],
      "metadata": {
        "id": "WKn61woXTZBu"
      }
    },
    {
      "cell_type": "code",
      "execution_count": null,
      "metadata": {
        "id": "uSZ9y27vEfFs"
      },
      "outputs": [],
      "source": [
        "# Workflow for surface water detection from Sentinel-2 data was adapted from published code repositories by Boothroyd et. al (2021) https://doi.org/10.3389/fenvs.2021.657354\n",
        "# Original scripts are available at: https://code.earthengine.google.com/1d1cc675904221567886f2e91b21d87d\n",
        "# Script was translated to Python (Colab) and modified to use Sentinel-2 data, rather than Landsat data as used in the original study"
      ]
    },
    {
      "cell_type": "code",
      "source": [
        "# Import libraries\n",
        "\n",
        "#!pip install ipyleaflet==0.18.2\n",
        "#%pip install -U geemap\n",
        "\n",
        "import ee\n",
        "import geemap\n",
        "import matplotlib.pyplot as plt\n",
        "\n",
        "ee.Authenticate()\n",
        "ee.Initialize(project='YOUR PROJECT HERE')"
      ],
      "metadata": {
        "id": "Ml581Mxus92q"
      },
      "execution_count": null,
      "outputs": []
    },
    {
      "cell_type": "code",
      "source": [
        "# Define region of interest (roi): either use the area provided, or uncomment the code below and draw a polygon on the map (rename the polygon 'roi').\n",
        "Map=geemap.Map()\n",
        "roi = ee.Geometry.Rectangle(89.6206, 24.4842, 89.85,  23.769174)\n",
        "Map.centerObject(roi,8)\n",
        "Map"
      ],
      "metadata": {
        "id": "Xbbyb2h-p_3k"
      },
      "execution_count": null,
      "outputs": []
    },
    {
      "cell_type": "code",
      "source": [
        "# Define time filter (change the start and end dates):\n",
        "year=2017\n",
        "year0=2017\n",
        "yeartext=str(year)\n",
        "year0text=str(year0)\n",
        "startdate=\"-11-05\"\n",
        "enddate=\"-11-07\"\n",
        "sDate_T1 = year0text+startdate\n",
        "eDate_T1 = yeartext+enddate\n",
        "cloud_cover = 10 # Upper limit of cloud cover % for filtering\n",
        "\n",
        "# Optionally modify the classification parameters:\n",
        "#The Modified Normalized Difference Water Index (mNDWI), Normalized Difference Vegetation Index (NDVI), and Enhanced Vegetation Index (EVI) were calculated for water detection using the equations below:\n",
        "# mNDWI = (𝜌𝑔𝑟𝑒𝑒𝑛−𝜌𝑆𝑊𝐼𝑅1) /(𝜌𝑔𝑟𝑒𝑒𝑛+𝜌𝑆𝑊𝐼𝑅1)\n",
        "# NDVI = (𝜌𝑁𝐼𝑅−𝜌𝑅𝑒𝑑)/(𝜌𝑁𝐼𝑅+𝜌𝑅𝑒𝑑)\n",
        "# EVI = 2.5 × (𝜌𝑁𝐼𝑅−𝜌𝑅𝑒𝑑)/(1+𝜌𝑁𝐼𝑅+6𝜌𝑅𝑒𝑑−7.5𝜌𝑏𝑙𝑢𝑒)\n",
        "# Where ρblue, ρgreen, ρred, ρNIR, and ρSWIR1 are the surface reflectance values of Landsat blue band (0.45–0.52), green band (0.52–0.60), red band (0.63–0.69), near-infrared band (0.77–0.90), and shortwave infrared band (1.55–1.75) μm, respectively.\n",
        "# Zou et al (2018) classify water where ((mNDWI > EVI or mNDWI > NDVI) and EVI < 0.1)\n",
        "# (Berdoldi et al 2011 use the following NDVI thresholds: gravel and water=NDVI<0.1, sparse vegetation=NDVI0.1-0.2, dense vegetation=NDVI>0.2)\n",
        "mndwi_param = -0.40;\n",
        "ndvi_param = 0.10;\n",
        "cleaning_pixels = 100;\n",
        "ds_veg_min = 0.20"
      ],
      "metadata": {
        "id": "z-9ZsxteCon2"
      },
      "execution_count": null,
      "outputs": []
    },
    {
      "cell_type": "code",
      "source": [
        "# Standardise band names for S2 data:\n",
        "bn1 = [\"B2\", \"B3\", \"B4\", \"B11\", \"B8\", \"B12\",\"QA60\"]\n",
        "bns = [\"Blue\", \"Green\", \"Red\", \"Swir1\", \"Nir\", \"Swir2\",\"QA60\"]\n",
        "S2 = (ee.ImageCollection(\"COPERNICUS/S2_HARMONIZED\")\n",
        "  .select(bn1, bns)\n",
        "  .filterDate(sDate_T1, eDate_T1)\n",
        "  .filterBounds(roi)\n",
        "  .map(lambda image: image.clip(roi))\n",
        "  .map(lambda img: img.set('date', img.date().format('YYYY-MM-dd')))\n",
        "  .filter(ee.Filter.lt('CLOUDY_PIXEL_PERCENTAGE', cloud_cover))\n",
        ")\n",
        "\n",
        "count_s2 = S2.size()\n",
        "dates_s2 = S2.distinct('date').aggregate_array('date')\n",
        "print(str(count_s2.getInfo()),': Number of Sentinel-2 tiles')\n",
        "print(str(dates_s2.getInfo()),': Acquisition Dates')\n",
        "\n",
        "# Set functions for classification:\n",
        "def Ndvi(image):\n",
        "  # calculate normalized difference vegetation index\n",
        "  ndvi = image.normalizedDifference([\"Nir\", \"Red\"]).rename(\"ndvi\")\n",
        "  return(ndvi)\n",
        "\n",
        "def Lswi(image):\n",
        "  # calculate land surface water index\n",
        "  lswi = image.normalizedDifference(['Nir', 'Swir1']).rename('lswi')\n",
        "  return(lswi)\n",
        "\n",
        "def Mndwi(image):\n",
        "  # calculate modified normalized difference water index\n",
        "  mndwi = image.normalizedDifference(['Green', 'Swir1']).rename('mndwi')\n",
        "  return(mndwi)\n",
        "\n",
        "def Evi(image):\n",
        "  # calculate the enhanced vegetation index\n",
        "  evi = image.expression('2.5 * (Nir - Red) / (1 + Nir + 6 * Red - 7.5 * Blue)', {\n",
        "    'Nir': image.select(['Nir']),\n",
        "    'Red': image.select(['Red']),\n",
        "    'Blue': image.select(['Blue'])\n",
        "    })\n",
        "  return(evi.rename(['evi']))\n",
        "\n",
        "# Set Visualisation parameters:\n",
        "params_true = {'crs': 'EPSG:4326', 'region': roi, 'min': 0.0, 'max': 0.3, 'bands': [\"Red\", \"Green\", \"Blue\"], 'dimensions': 1000}\n",
        "params_false = {'crs': 'EPSG:4326', 'region': roi, 'min': 0.0, 'max': 0.3, 'bands': [\"Swir1\", \"Red\", \"Green\"], 'dimensions': 1000}\n",
        "params_waterViz = {'crs': 'EPSG:4326', 'region': roi, 'min': 0, 'max': 1, 'palette': ['white', 'blue'],'dimensions': 1000}\n",
        "params_activebeltViz = {'crs': 'EPSG:4326', 'region': roi, 'min': 0, 'max': 1, 'palette': ['white', 'grey'],'dimensions': 1000}\n",
        "params_activeViz = {'crs': 'EPSG:4326', 'region': roi, 'min': 0, 'max': 1, 'palette': ['white', 'grey'],'dimensions': 1000}\n",
        "params_sparse_veg_Viz={'crs': 'EPSG:4326', 'region': roi, 'min': 0, 'max': 1, 'palette': ['white', 'grey'],'dimensions': 1000}\n",
        "\n",
        "waterViz = {'min': 0, 'max': 1, 'palette': ['white', 'blue']}\n",
        "activebeltViz = {'min': 0, 'max': 1, 'palette': ['white', 'grey']}\n",
        "activeViz = {'min': 0, 'max': 1, 'palette': ['white', 'MediumOrchid ']}\n",
        "active_cleanedViz = {'min': 0, 'max': 1, 'palette': ['white', 'OrangeRed ']}\n",
        "sparse_veg_Viz = {'min': 0, 'max': 1, 'palette': ['white', 'Green ']}\n",
        "\n",
        "# Filter date range, roi and apply simple cloud processing:\n",
        "def CloudMask(image):\n",
        "  \"\"\"Masks clouds in a Sentinel-2 image using the QA band.\n",
        "\n",
        "  Args:\n",
        "      image (ee.Image): A Sentinel-2 image.\n",
        "\n",
        "  Returns:\n",
        "      ee.Image: A cloud-masked Sentinel-2 image.\n",
        "  \"\"\"\n",
        "  qa = image.select('QA60')\n",
        "\n",
        "  # Bits 10 and 11 are clouds and cirrus, respectively.\n",
        "  cloud_bit_mask = 1 << 10\n",
        "  cirrus_bit_mask = 1 << 11\n",
        "\n",
        "  # Both flags should be set to zero, indicating clear conditions.\n",
        "  mask = (\n",
        "      qa.bitwiseAnd(cloud_bit_mask)\n",
        "      .eq(0)\n",
        "      .And(qa.bitwiseAnd(cirrus_bit_mask).eq(0))\n",
        "  )\n",
        "  return image.updateMask(mask).divide(10000)\n",
        "\n",
        "\n",
        "imgCol = (S2.map(CloudMask))\n",
        "\n",
        "# Define and rename quantiles of interest:\n",
        "bnp50 = ['Blue_p50', 'Green_p50', 'Red_p50', 'Swir1_p50', 'Nir_p50', 'Swir2_p50','QA60_p50']\n",
        "p50 = imgCol.reduce(ee.Reducer.percentile([50])).select(bnp50, bns)\n",
        "\n",
        "# Apply to each percentile:\n",
        "mndwi_p50 = Mndwi(p50);\n",
        "ndvi_p50 = Ndvi(p50);\n",
        "evi_p50 = Evi(p50);\n",
        "lswi_p50 = Lswi(p50);\n"
      ],
      "metadata": {
        "colab": {
          "base_uri": "https://localhost:8080/",
          "height": 52
        },
        "id": "QaPyx188xAGr",
        "outputId": "985afc10-5ec5-4b16-bf06-789805572675"
      },
      "execution_count": 14,
      "outputs": [
        {
          "output_type": "display_data",
          "data": {
            "text/plain": [
              "<IPython.core.display.HTML object>"
            ],
            "text/html": [
              "\n",
              "            <style>\n",
              "                .geemap-dark {\n",
              "                    --jp-widgets-color: white;\n",
              "                    --jp-widgets-label-color: white;\n",
              "                    --jp-ui-font-color1: white;\n",
              "                    --jp-layout-color2: #454545;\n",
              "                    background-color: #383838;\n",
              "                }\n",
              "\n",
              "                .geemap-dark .jupyter-button {\n",
              "                    --jp-layout-color3: #383838;\n",
              "                }\n",
              "\n",
              "                .geemap-colab {\n",
              "                    background-color: var(--colab-primary-surface-color, white);\n",
              "                }\n",
              "\n",
              "                .geemap-colab .jupyter-button {\n",
              "                    --jp-layout-color3: var(--colab-primary-surface-color, white);\n",
              "                }\n",
              "            </style>\n",
              "            "
            ]
          },
          "metadata": {}
        },
        {
          "output_type": "stream",
          "name": "stdout",
          "text": [
            "2 : Number of Sentinel-2 tiles\n",
            "['2017-11-06'] : Acquisition Dates\n"
          ]
        }
      ]
    },
    {
      "cell_type": "code",
      "source": [
        "# Water classification from (Zou 2018):\n",
        "water_p50 = (mndwi_p50.gt(ndvi_p50).Or(mndwi_p50.gt(evi_p50))).And(evi_p50.lt(0.1))\n",
        "waterMasked_p50 = water_p50.updateMask(water_p50.gt(0));\n",
        "\n",
        "# Active river belt classification:\n",
        "activebelt_p50 = (mndwi_p50.gte(mndwi_param)).And(ndvi_p50.lte(ndvi_param))\n",
        "activebeltMasked_p50 = activebelt_p50.updateMask(activebelt_p50.gt(0))\n",
        "active_p50 = (water_p50).Or(activebelt_p50)\n",
        "sparseveg_p50 = (mndwi_p50.gte(mndwi_param)).And(ndvi_p50.lte(ds_veg_min)).And(ndvi_p50.gte(ndvi_param))\n",
        "\n",
        "# Clean binary active channel:\n",
        "smooth_map_p50 = (active_p50\n",
        "           .focalMode(\n",
        "           10, 'octagon', 'pixels', 1\n",
        "           )\n",
        "           .mask(active_p50.gte(1)))\n",
        "\n",
        "noise_removal_p50 = (active_p50\n",
        "            .updateMask(active_p50.connectedPixelCount(cleaning_pixels, False).gte(cleaning_pixels))\n",
        "            .unmask(smooth_map_p50))\n",
        "\n",
        "noise_removal_p50_Masked = noise_removal_p50.updateMask(noise_removal_p50.gt(0));\n",
        "\n",
        "# Clean sparse vegetation mask\n",
        "veg_smooth_map_p50 = (sparseveg_p50\n",
        "           .focalMode(\n",
        "           10,'octagon', 'pixels', 1\n",
        "           )\n",
        "           .mask(sparseveg_p50.gte(1)))\n",
        "\n",
        "veg_noise_removal_p50 = (sparseveg_p50\n",
        "            .updateMask(sparseveg_p50.connectedPixelCount(cleaning_pixels, False).gte(cleaning_pixels))\n",
        "            .unmask(veg_smooth_map_p50))\n",
        "\n",
        "veg_noise_removal_p50_Masked = veg_noise_removal_p50.updateMask(veg_noise_removal_p50.gt(0))\n",
        "\n",
        "# Define outputs:\n",
        "True_colour = p50.select([\"Red\", \"Green\", \"Blue\"])\n",
        "False_colour = p50.select([\"Swir1\", \"Red\", \"Green\"])\n",
        "Wetted_channel = waterMasked_p50\n",
        "Alluvial_deposits = activebeltMasked_p50\n",
        "Active_channel_binary_mask = noise_removal_p50_Masked\n",
        "Sparse_veg = veg_noise_removal_p50_Masked\n",
        "\n",
        "def cloudy(image):\n",
        "  return image.multiply(0.0001).clip(roi)\n",
        "cloudy = (S2.filterDate(sDate_T1, eDate_T1)\n",
        "                 .filterBounds(roi)\n",
        "                 .map(cloudy)\n",
        "                   )"
      ],
      "metadata": {
        "id": "dSF9cGoKMMqr"
      },
      "execution_count": null,
      "outputs": []
    },
    {
      "cell_type": "code",
      "source": [
        "# Display on map:\n",
        "Map\n",
        "Map.addLayer(True_colour.clip(roi), params_true, 'True colour temporal composite', False)\n",
        "Map.addLayer(False_colour.clip(roi), params_false, 'False colour temporal composite', True)\n",
        "Map.addLayer(Alluvial_deposits, activebeltViz, 'Alluvial deposits', False)\n",
        "Map.addLayer(Sparse_veg, sparse_veg_Viz, 'Sparse Vegetation', False)\n",
        "Map.addLayer(Active_channel_binary_mask, activebeltViz, 'Active channel binary mask', True)\n",
        "Map.addLayer(Wetted_channel, waterViz, 'Wetted channel', False)"
      ],
      "metadata": {
        "id": "7fqr5TyH8PY3"
      },
      "execution_count": null,
      "outputs": []
    },
    {
      "cell_type": "code",
      "source": [
        "# Export to Google Drive:\n",
        "task=ee.batch.Export.image.toDrive(\n",
        "  image=Wetted_channel,\n",
        "  description= str(sDate_T1),\n",
        "  region= roi,\n",
        "  scale=10,\n",
        "  folder= 'GEE_Output',\n",
        "  maxPixels= 1e13,\n",
        "  formatOptions={\n",
        "        'cloudOptimized': True\n",
        "    }\n",
        ")\n",
        "task.start()"
      ],
      "metadata": {
        "id": "29yxRVPt8rQg"
      },
      "execution_count": null,
      "outputs": []
    }
  ]
}